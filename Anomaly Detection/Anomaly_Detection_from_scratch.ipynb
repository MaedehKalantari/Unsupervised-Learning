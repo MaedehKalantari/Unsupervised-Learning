{
  "cells": [
    {
      "cell_type": "markdown",
      "source": [
        "# Anomaly Detection\n",
        "## From scratch"
      ],
      "metadata": {
        "id": "n7Qarh4xWcmP"
      }
    },
    {
      "cell_type": "code",
      "source": [
        "import pandas as pd\n",
        "import numpy as np\n",
        "import matplotlib.pyplot as plt"
      ],
      "metadata": {
        "id": "n_kzOcNNW9CC"
      },
      "execution_count": null,
      "outputs": []
    },
    {
      "cell_type": "code",
      "execution_count": null,
      "metadata": {
        "id": "lIYdn1woOS1n",
        "colab": {
          "base_uri": "https://localhost:8080/"
        },
        "outputId": "7b902279-5f63-46d5-9f14-61fc887c1d2e"
      },
      "outputs": [
        {
          "output_type": "stream",
          "name": "stdout",
          "text": [
            "/usr/local/lib/python3.7/dist-packages/gdown/cli.py:131: FutureWarning: Option `--id` was deprecated in version 4.3.1 and will be removed in 5.0. You don't need to pass it anymore to use a file ID.\n",
            "  category=FutureWarning,\n",
            "Downloading...\n",
            "From: https://drive.google.com/uc?id=1Lfz8YlLk2GfccynPdilI49O6kQYRhEI0\n",
            "To: /content/Anomaly.xlsx\n",
            "100% 30.6k/30.6k [00:00<00:00, 39.9MB/s]\n"
          ]
        }
      ],
      "source": [
        "!gdown --id 1Lfz8YlLk2GfccynPdilI49O6kQYRhEI0"
      ]
    },
    {
      "cell_type": "markdown",
      "source": [
        "### Import the dataset\n",
        "This is an excel dataset. Here training data and cross-validation data are stored in the separate sheets."
      ],
      "metadata": {
        "id": "evvfdbxGXj3I"
      }
    },
    {
      "cell_type": "code",
      "source": [
        "df = pd.read_excel('Anomaly.xlsx', sheet_name='X', header=None)\n",
        "df.head()"
      ],
      "metadata": {
        "colab": {
          "base_uri": "https://localhost:8080/",
          "height": 206
        },
        "id": "DPpc8hW-W_ve",
        "outputId": "40645ba7-e562-47af-c505-64e76d139f19"
      },
      "execution_count": null,
      "outputs": [
        {
          "output_type": "execute_result",
          "data": {
            "text/plain": [
              "           0          1\n",
              "0  13.046815  14.741152\n",
              "1  13.408520  13.763270\n",
              "2  14.195915  15.853181\n",
              "3  14.914701  16.174260\n",
              "4  13.576700  14.042849"
            ],
            "text/html": [
              "\n",
              "  <div id=\"df-34238ae7-49c1-43fa-9d39-b77e0a227adb\">\n",
              "    <div class=\"colab-df-container\">\n",
              "      <div>\n",
              "<style scoped>\n",
              "    .dataframe tbody tr th:only-of-type {\n",
              "        vertical-align: middle;\n",
              "    }\n",
              "\n",
              "    .dataframe tbody tr th {\n",
              "        vertical-align: top;\n",
              "    }\n",
              "\n",
              "    .dataframe thead th {\n",
              "        text-align: right;\n",
              "    }\n",
              "</style>\n",
              "<table border=\"1\" class=\"dataframe\">\n",
              "  <thead>\n",
              "    <tr style=\"text-align: right;\">\n",
              "      <th></th>\n",
              "      <th>0</th>\n",
              "      <th>1</th>\n",
              "    </tr>\n",
              "  </thead>\n",
              "  <tbody>\n",
              "    <tr>\n",
              "      <th>0</th>\n",
              "      <td>13.046815</td>\n",
              "      <td>14.741152</td>\n",
              "    </tr>\n",
              "    <tr>\n",
              "      <th>1</th>\n",
              "      <td>13.408520</td>\n",
              "      <td>13.763270</td>\n",
              "    </tr>\n",
              "    <tr>\n",
              "      <th>2</th>\n",
              "      <td>14.195915</td>\n",
              "      <td>15.853181</td>\n",
              "    </tr>\n",
              "    <tr>\n",
              "      <th>3</th>\n",
              "      <td>14.914701</td>\n",
              "      <td>16.174260</td>\n",
              "    </tr>\n",
              "    <tr>\n",
              "      <th>4</th>\n",
              "      <td>13.576700</td>\n",
              "      <td>14.042849</td>\n",
              "    </tr>\n",
              "  </tbody>\n",
              "</table>\n",
              "</div>\n",
              "      <button class=\"colab-df-convert\" onclick=\"convertToInteractive('df-34238ae7-49c1-43fa-9d39-b77e0a227adb')\"\n",
              "              title=\"Convert this dataframe to an interactive table.\"\n",
              "              style=\"display:none;\">\n",
              "        \n",
              "  <svg xmlns=\"http://www.w3.org/2000/svg\" height=\"24px\"viewBox=\"0 0 24 24\"\n",
              "       width=\"24px\">\n",
              "    <path d=\"M0 0h24v24H0V0z\" fill=\"none\"/>\n",
              "    <path d=\"M18.56 5.44l.94 2.06.94-2.06 2.06-.94-2.06-.94-.94-2.06-.94 2.06-2.06.94zm-11 1L8.5 8.5l.94-2.06 2.06-.94-2.06-.94L8.5 2.5l-.94 2.06-2.06.94zm10 10l.94 2.06.94-2.06 2.06-.94-2.06-.94-.94-2.06-.94 2.06-2.06.94z\"/><path d=\"M17.41 7.96l-1.37-1.37c-.4-.4-.92-.59-1.43-.59-.52 0-1.04.2-1.43.59L10.3 9.45l-7.72 7.72c-.78.78-.78 2.05 0 2.83L4 21.41c.39.39.9.59 1.41.59.51 0 1.02-.2 1.41-.59l7.78-7.78 2.81-2.81c.8-.78.8-2.07 0-2.86zM5.41 20L4 18.59l7.72-7.72 1.47 1.35L5.41 20z\"/>\n",
              "  </svg>\n",
              "      </button>\n",
              "      \n",
              "  <style>\n",
              "    .colab-df-container {\n",
              "      display:flex;\n",
              "      flex-wrap:wrap;\n",
              "      gap: 12px;\n",
              "    }\n",
              "\n",
              "    .colab-df-convert {\n",
              "      background-color: #E8F0FE;\n",
              "      border: none;\n",
              "      border-radius: 50%;\n",
              "      cursor: pointer;\n",
              "      display: none;\n",
              "      fill: #1967D2;\n",
              "      height: 32px;\n",
              "      padding: 0 0 0 0;\n",
              "      width: 32px;\n",
              "    }\n",
              "\n",
              "    .colab-df-convert:hover {\n",
              "      background-color: #E2EBFA;\n",
              "      box-shadow: 0px 1px 2px rgba(60, 64, 67, 0.3), 0px 1px 3px 1px rgba(60, 64, 67, 0.15);\n",
              "      fill: #174EA6;\n",
              "    }\n",
              "\n",
              "    [theme=dark] .colab-df-convert {\n",
              "      background-color: #3B4455;\n",
              "      fill: #D2E3FC;\n",
              "    }\n",
              "\n",
              "    [theme=dark] .colab-df-convert:hover {\n",
              "      background-color: #434B5C;\n",
              "      box-shadow: 0px 1px 3px 1px rgba(0, 0, 0, 0.15);\n",
              "      filter: drop-shadow(0px 1px 2px rgba(0, 0, 0, 0.3));\n",
              "      fill: #FFFFFF;\n",
              "    }\n",
              "  </style>\n",
              "\n",
              "      <script>\n",
              "        const buttonEl =\n",
              "          document.querySelector('#df-34238ae7-49c1-43fa-9d39-b77e0a227adb button.colab-df-convert');\n",
              "        buttonEl.style.display =\n",
              "          google.colab.kernel.accessAllowed ? 'block' : 'none';\n",
              "\n",
              "        async function convertToInteractive(key) {\n",
              "          const element = document.querySelector('#df-34238ae7-49c1-43fa-9d39-b77e0a227adb');\n",
              "          const dataTable =\n",
              "            await google.colab.kernel.invokeFunction('convertToInteractive',\n",
              "                                                     [key], {});\n",
              "          if (!dataTable) return;\n",
              "\n",
              "          const docLinkHtml = 'Like what you see? Visit the ' +\n",
              "            '<a target=\"_blank\" href=https://colab.research.google.com/notebooks/data_table.ipynb>data table notebook</a>'\n",
              "            + ' to learn more about interactive tables.';\n",
              "          element.innerHTML = '';\n",
              "          dataTable['output_type'] = 'display_data';\n",
              "          await google.colab.output.renderOutput(dataTable, element);\n",
              "          const docLink = document.createElement('div');\n",
              "          docLink.innerHTML = docLinkHtml;\n",
              "          element.appendChild(docLink);\n",
              "        }\n",
              "      </script>\n",
              "    </div>\n",
              "  </div>\n",
              "  "
            ]
          },
          "metadata": {},
          "execution_count": 3
        }
      ]
    },
    {
      "cell_type": "code",
      "source": [
        "plt.figure()\n",
        "plt.scatter(df[0], df[1])\n",
        "plt.show()"
      ],
      "metadata": {
        "colab": {
          "base_uri": "https://localhost:8080/",
          "height": 266
        },
        "id": "pmGEdJxxXp4m",
        "outputId": "05620f14-0588-4b38-c494-c25c2e2a2b57"
      },
      "execution_count": null,
      "outputs": [
        {
          "output_type": "display_data",
          "data": {
            "text/plain": [
              "<Figure size 432x288 with 1 Axes>"
            ],
            "image/png": "[encoded data removed]"
          },
          "metadata": {
            "needs_background": "light"
          }
        }
      ]
    },
    {
      "cell_type": "code",
      "source": [
        "#Check how many training examples are in this dataset:\n",
        "m = len(df)\n",
        "print('the number of samples: ', m)"
      ],
      "metadata": {
        "colab": {
          "base_uri": "https://localhost:8080/"
        },
        "id": "2oTXcq7vYM7X",
        "outputId": "195ff6f5-50b5-4f7e-eaea-8d4a3a1d75f0"
      },
      "execution_count": null,
      "outputs": [
        {
          "output_type": "stream",
          "name": "stdout",
          "text": [
            "the number of samples:  307\n"
          ]
        }
      ]
    },
    {
      "cell_type": "code",
      "source": [
        "# Calculate the mean for each feature.\n",
        "s = np.sum(df, axis=0)\n",
        "mu = s/m\n",
        "mu"
      ],
      "metadata": {
        "colab": {
          "base_uri": "https://localhost:8080/"
        },
        "id": "Sy8CpNhAYYC6",
        "outputId": "10921270-84f1-497b-bec2-6e22425aca55"
      },
      "execution_count": null,
      "outputs": [
        {
          "output_type": "execute_result",
          "data": {
            "text/plain": [
              "0    14.112226\n",
              "1    14.997711\n",
              "dtype: float64"
            ]
          },
          "metadata": {},
          "execution_count": 8
        }
      ]
    },
    {
      "cell_type": "code",
      "source": [
        "# calculate the variance\n",
        "vr = np.sum((df - mu)**2, axis=0)\n",
        "variance = vr/m\n",
        "variance"
      ],
      "metadata": {
        "colab": {
          "base_uri": "https://localhost:8080/"
        },
        "id": "7p-I2YXQY7H5",
        "outputId": "9e09d11a-e75e-4813-99b1-afd8042d29c4"
      },
      "execution_count": null,
      "outputs": [
        {
          "output_type": "execute_result",
          "data": {
            "text/plain": [
              "0    1.832631\n",
              "1    1.709745\n",
              "dtype: float64"
            ]
          },
          "metadata": {},
          "execution_count": 9
        }
      ]
    },
    {
      "cell_type": "code",
      "source": [
        "# make the variance diagonal shaped\n",
        "var_dia = np.diag(variance)\n",
        "var_dia"
      ],
      "metadata": {
        "colab": {
          "base_uri": "https://localhost:8080/"
        },
        "id": "gN3VnMzhZQRp",
        "outputId": "6e08d9b6-1183-459c-b01d-6846de1bec19"
      },
      "execution_count": null,
      "outputs": [
        {
          "output_type": "execute_result",
          "data": {
            "text/plain": [
              "array([[1.83263141, 0.        ],\n",
              "       [0.        , 1.70974533]])"
            ]
          },
          "metadata": {},
          "execution_count": 10
        }
      ]
    },
    {
      "cell_type": "code",
      "source": [
        "# Calculate the probability\n",
        "n = len(mu)\n",
        "X = df - mu\n",
        "p = 1/((2*np.pi)**(n/2)*(np.linalg.det(var_dia)**0.5))* np.exp(-0.5 * np.sum(X @ np.linalg.pinv(var_dia) * X, axis=1))\n",
        "p"
      ],
      "metadata": {
        "colab": {
          "base_uri": "https://localhost:8080/"
        },
        "id": "RxGrC6fNZE1Y",
        "outputId": "28f522ee-db79-441e-a9ac-5bc9966658b4"
      },
      "execution_count": null,
      "outputs": [
        {
          "output_type": "execute_result",
          "data": {
            "text/plain": [
              "0      6.470829e-02\n",
              "1      5.030417e-02\n",
              "2      7.245035e-02\n",
              "3      5.031575e-02\n",
              "4      6.368497e-02\n",
              "           ...     \n",
              "302    3.981340e-02\n",
              "303    5.455673e-08\n",
              "304    4.461721e-12\n",
              "305    6.107184e-05\n",
              "306    2.912867e-23\n",
              "Length: 307, dtype: float64"
            ]
          },
          "metadata": {},
          "execution_count": 16
        }
      ]
    },
    {
      "cell_type": "code",
      "source": [
        "# Let’s put all these calculations for probability into a function for future use.\n",
        "def probability(df):\n",
        "    s = np.sum(df, axis=0)\n",
        "    m = len(df)\n",
        "    mu = s/m\n",
        "    vr = np.sum((df - mu)**2, axis=0)\n",
        "    variance = vr/m\n",
        "    var_dia = np.diag(variance)\n",
        "    n = len(mu)\n",
        "    X = df - mu\n",
        "    p = 1/((2*np.pi)**(n/2)*(np.linalg.det(var_dia)**0.5))* np.exp(-0.5* np.sum(X @ np.linalg.pinv(var_dia) * X,axis=1))\n",
        "    return p"
      ],
      "metadata": {
        "id": "sN3DChjGZXKK"
      },
      "execution_count": null,
      "outputs": []
    },
    {
      "cell_type": "markdown",
      "source": [
        "### import val-set"
      ],
      "metadata": {
        "id": "H4erBTVBZmak"
      }
    },
    {
      "cell_type": "code",
      "source": [
        "cvx = pd.read_excel('Anomaly.xlsx', sheet_name='Xval', header=None)\n",
        "cvx.head()"
      ],
      "metadata": {
        "colab": {
          "base_uri": "https://localhost:8080/",
          "height": 206
        },
        "id": "YjfljZp5ZkQo",
        "outputId": "d5253f7c-3390-4f7f-c3a9-063a977c29bc"
      },
      "execution_count": null,
      "outputs": [
        {
          "output_type": "execute_result",
          "data": {
            "text/plain": [
              "           0          1\n",
              "0  15.790260  14.921024\n",
              "1  13.639619  15.329955\n",
              "2  14.865899  16.473865\n",
              "3  13.584676  13.989306\n",
              "4  13.464042  15.635330"
            ],
            "text/html": [
              "\n",
              "  <div id=\"df-d461c37d-961f-4f84-8e33-a2839cac5dff\">\n",
              "    <div class=\"colab-df-container\">\n",
              "      <div>\n",
              "<style scoped>\n",
              "    .dataframe tbody tr th:only-of-type {\n",
              "        vertical-align: middle;\n",
              "    }\n",
              "\n",
              "    .dataframe tbody tr th {\n",
              "        vertical-align: top;\n",
              "    }\n",
              "\n",
              "    .dataframe thead th {\n",
              "        text-align: right;\n",
              "    }\n",
              "</style>\n",
              "<table border=\"1\" class=\"dataframe\">\n",
              "  <thead>\n",
              "    <tr style=\"text-align: right;\">\n",
              "      <th></th>\n",
              "      <th>0</th>\n",
              "      <th>1</th>\n",
              "    </tr>\n",
              "  </thead>\n",
              "  <tbody>\n",
              "    <tr>\n",
              "      <th>0</th>\n",
              "      <td>15.790260</td>\n",
              "      <td>14.921024</td>\n",
              "    </tr>\n",
              "    <tr>\n",
              "      <th>1</th>\n",
              "      <td>13.639619</td>\n",
              "      <td>15.329955</td>\n",
              "    </tr>\n",
              "    <tr>\n",
              "      <th>2</th>\n",
              "      <td>14.865899</td>\n",
              "      <td>16.473865</td>\n",
              "    </tr>\n",
              "    <tr>\n",
              "      <th>3</th>\n",
              "      <td>13.584676</td>\n",
              "      <td>13.989306</td>\n",
              "    </tr>\n",
              "    <tr>\n",
              "      <th>4</th>\n",
              "      <td>13.464042</td>\n",
              "      <td>15.635330</td>\n",
              "    </tr>\n",
              "  </tbody>\n",
              "</table>\n",
              "</div>\n",
              "      <button class=\"colab-df-convert\" onclick=\"convertToInteractive('df-d461c37d-961f-4f84-8e33-a2839cac5dff')\"\n",
              "              title=\"Convert this dataframe to an interactive table.\"\n",
              "              style=\"display:none;\">\n",
              "        \n",
              "  <svg xmlns=\"http://www.w3.org/2000/svg\" height=\"24px\"viewBox=\"0 0 24 24\"\n",
              "       width=\"24px\">\n",
              "    <path d=\"M0 0h24v24H0V0z\" fill=\"none\"/>\n",
              "    <path d=\"M18.56 5.44l.94 2.06.94-2.06 2.06-.94-2.06-.94-.94-2.06-.94 2.06-2.06.94zm-11 1L8.5 8.5l.94-2.06 2.06-.94-2.06-.94L8.5 2.5l-.94 2.06-2.06.94zm10 10l.94 2.06.94-2.06 2.06-.94-2.06-.94-.94-2.06-.94 2.06-2.06.94z\"/><path d=\"M17.41 7.96l-1.37-1.37c-.4-.4-.92-.59-1.43-.59-.52 0-1.04.2-1.43.59L10.3 9.45l-7.72 7.72c-.78.78-.78 2.05 0 2.83L4 21.41c.39.39.9.59 1.41.59.51 0 1.02-.2 1.41-.59l7.78-7.78 2.81-2.81c.8-.78.8-2.07 0-2.86zM5.41 20L4 18.59l7.72-7.72 1.47 1.35L5.41 20z\"/>\n",
              "  </svg>\n",
              "      </button>\n",
              "      \n",
              "  <style>\n",
              "    .colab-df-container {\n",
              "      display:flex;\n",
              "      flex-wrap:wrap;\n",
              "      gap: 12px;\n",
              "    }\n",
              "\n",
              "    .colab-df-convert {\n",
              "      background-color: #E8F0FE;\n",
              "      border: none;\n",
              "      border-radius: 50%;\n",
              "      cursor: pointer;\n",
              "      display: none;\n",
              "      fill: #1967D2;\n",
              "      height: 32px;\n",
              "      padding: 0 0 0 0;\n",
              "      width: 32px;\n",
              "    }\n",
              "\n",
              "    .colab-df-convert:hover {\n",
              "      background-color: #E2EBFA;\n",
              "      box-shadow: 0px 1px 2px rgba(60, 64, 67, 0.3), 0px 1px 3px 1px rgba(60, 64, 67, 0.15);\n",
              "      fill: #174EA6;\n",
              "    }\n",
              "\n",
              "    [theme=dark] .colab-df-convert {\n",
              "      background-color: #3B4455;\n",
              "      fill: #D2E3FC;\n",
              "    }\n",
              "\n",
              "    [theme=dark] .colab-df-convert:hover {\n",
              "      background-color: #434B5C;\n",
              "      box-shadow: 0px 1px 3px 1px rgba(0, 0, 0, 0.15);\n",
              "      filter: drop-shadow(0px 1px 2px rgba(0, 0, 0, 0.3));\n",
              "      fill: #FFFFFF;\n",
              "    }\n",
              "  </style>\n",
              "\n",
              "      <script>\n",
              "        const buttonEl =\n",
              "          document.querySelector('#df-d461c37d-961f-4f84-8e33-a2839cac5dff button.colab-df-convert');\n",
              "        buttonEl.style.display =\n",
              "          google.colab.kernel.accessAllowed ? 'block' : 'none';\n",
              "\n",
              "        async function convertToInteractive(key) {\n",
              "          const element = document.querySelector('#df-d461c37d-961f-4f84-8e33-a2839cac5dff');\n",
              "          const dataTable =\n",
              "            await google.colab.kernel.invokeFunction('convertToInteractive',\n",
              "                                                     [key], {});\n",
              "          if (!dataTable) return;\n",
              "\n",
              "          const docLinkHtml = 'Like what you see? Visit the ' +\n",
              "            '<a target=\"_blank\" href=https://colab.research.google.com/notebooks/data_table.ipynb>data table notebook</a>'\n",
              "            + ' to learn more about interactive tables.';\n",
              "          element.innerHTML = '';\n",
              "          dataTable['output_type'] = 'display_data';\n",
              "          await google.colab.output.renderOutput(dataTable, element);\n",
              "          const docLink = document.createElement('div');\n",
              "          docLink.innerHTML = docLinkHtml;\n",
              "          element.appendChild(docLink);\n",
              "        }\n",
              "      </script>\n",
              "    </div>\n",
              "  </div>\n",
              "  "
            ]
          },
          "metadata": {},
          "execution_count": 18
        }
      ]
    },
    {
      "cell_type": "code",
      "source": [
        "cvy = pd.read_excel('Anomaly.xlsx', sheet_name='y', header=None)\n",
        "cvy.head()"
      ],
      "metadata": {
        "colab": {
          "base_uri": "https://localhost:8080/"
        },
        "id": "QrAb9qneZroI",
        "outputId": "33771603-f7ef-4d1f-bf1e-44deb4223b38"
      },
      "execution_count": null,
      "outputs": [
        {
          "output_type": "execute_result",
          "data": {
            "text/plain": [
              "numpy.ndarray"
            ]
          },
          "metadata": {},
          "execution_count": 26
        }
      ]
    },
    {
      "cell_type": "code",
      "source": [
        "p1 = probability(cvx)\n",
        "y = np.array(cvy)"
      ],
      "metadata": {
        "id": "fSkCSYnvZxOe"
      },
      "execution_count": null,
      "outputs": []
    },
    {
      "cell_type": "code",
      "source": [
        "p1.describe()"
      ],
      "metadata": {
        "colab": {
          "base_uri": "https://localhost:8080/"
        },
        "id": "4rymdyB4Z2Lh",
        "outputId": "47302118-2a5f-4171-b6ab-342f1d8ba218"
      },
      "execution_count": null,
      "outputs": [
        {
          "output_type": "execute_result",
          "data": {
            "text/plain": [
              "count    3.070000e+02\n",
              "mean     5.378568e-02\n",
              "std      1.928081e-02\n",
              "min      1.800521e-30\n",
              "25%      4.212979e-02\n",
              "50%      5.935014e-02\n",
              "75%      6.924909e-02\n",
              "max      7.864731e-02\n",
              "dtype: float64"
            ]
          },
          "metadata": {},
          "execution_count": 27
        }
      ]
    },
    {
      "cell_type": "code",
      "source": [
        "def tpfpfn(ep, p):\n",
        "    tp, fp, fn = 0, 0, 0\n",
        "    for i in range(len(y)):\n",
        "        if p[i] <= ep and y[i][0] == 1:\n",
        "            tp += 1\n",
        "        elif p[i] <= ep and y[i][0] == 0:\n",
        "            fp += 1\n",
        "        elif p[i] > ep and y[i][0] == 1:\n",
        "            fn += 1\n",
        "    return tp, fp, fn"
      ],
      "metadata": {
        "id": "6GSscv9qaB_m"
      },
      "execution_count": null,
      "outputs": []
    },
    {
      "cell_type": "code",
      "source": [
        "eps = [i for i in p1 if i <= p1.mean()]\n",
        "len(eps)"
      ],
      "metadata": {
        "colab": {
          "base_uri": "https://localhost:8080/"
        },
        "id": "ekNImLmiaLaO",
        "outputId": "60517778-1d45-432c-9625-293a13b58f3c"
      },
      "execution_count": null,
      "outputs": [
        {
          "output_type": "execute_result",
          "data": {
            "text/plain": [
              "128"
            ]
          },
          "metadata": {},
          "execution_count": 30
        }
      ]
    },
    {
      "cell_type": "code",
      "source": [
        "# Define a function to calculate the ‘f1’ score\n",
        "def f1(ep, p):\n",
        "    tp, fp, fn = tpfpfn(ep, p1)\n",
        "    prec = tp/(tp + fp)\n",
        "    rec = tp/(tp + fn)\n",
        "    f1 = 2*prec*rec/(prec + rec)\n",
        "    return f1"
      ],
      "metadata": {
        "id": "sP-tlNy9aOFM"
      },
      "execution_count": null,
      "outputs": []
    },
    {
      "cell_type": "code",
      "source": [
        "f = []\n",
        "for i in eps:\n",
        "    f.append(f1(i, p1))\n",
        "f"
      ],
      "metadata": {
        "id": "i1iHpkXkaa6B",
        "colab": {
          "base_uri": "https://localhost:8080/"
        },
        "outputId": "4f8351f7-4594-40cf-f053-92676e70e813"
      },
      "execution_count": null,
      "outputs": [
        {
          "output_type": "execute_result",
          "data": {
            "text/plain": [
              "[0.16470588235294117,\n",
              " 0.208955223880597,\n",
              " 0.15384615384615385,\n",
              " 0.3181818181818182,\n",
              " 0.15555555555555556,\n",
              " 0.125,\n",
              " 0.56,\n",
              " 0.13333333333333333,\n",
              " 0.16867469879518074,\n",
              " 0.12612612612612614,\n",
              " 0.14583333333333331,\n",
              " 0.22950819672131148,\n",
              " 0.15053763440860213,\n",
              " 0.16666666666666666,\n",
              " 0.3888888888888889,\n",
              " 0.12389380530973451,\n",
              " 0.10294117647058823,\n",
              " 0.19999999999999998,\n",
              " 0.25925925925925924,\n",
              " 0.1372549019607843,\n",
              " 0.17283950617283952,\n",
              " 0.13592233009708737,\n",
              " 0.10370370370370369,\n",
              " 0.17073170731707316,\n",
              " 0.18918918918918923,\n",
              " 0.27999999999999997,\n",
              " 0.12844036697247707,\n",
              " 0.23333333333333334,\n",
              " 0.15909090909090906,\n",
              " 0.10852713178294573,\n",
              " 0.5833333333333334,\n",
              " 0.1044776119402985,\n",
              " 0.25,\n",
              " 0.1473684210526316,\n",
              " 0.12173913043478261,\n",
              " 0.13861386138613863,\n",
              " 0.10769230769230768,\n",
              " 0.18666666666666665,\n",
              " 0.11023622047244096,\n",
              " 0.24137931034482757,\n",
              " 0.2121212121212121,\n",
              " 0.12068965517241378,\n",
              " 0.3333333333333333,\n",
              " 0.30434782608695654,\n",
              " 0.14285714285714285,\n",
              " 0.17721518987341772,\n",
              " 0.5185185185185185,\n",
              " 0.7368421052631577,\n",
              " 0.2028985507246377,\n",
              " 0.6363636363636364,\n",
              " 0.11666666666666665,\n",
              " 0.5384615384615384,\n",
              " 0.10687022900763359,\n",
              " 0.10218978102189781,\n",
              " 0.2058823529411765,\n",
              " 0.15217391304347824,\n",
              " 0.11111111111111112,\n",
              " 0.1627906976744186,\n",
              " 0.1818181818181818,\n",
              " 0.21874999999999994,\n",
              " 0.35897435897435903,\n",
              " 0.11382113821138211,\n",
              " 0.7000000000000001,\n",
              " 0.1308411214953271,\n",
              " 0.14432989690721648,\n",
              " 0.12280701754385964,\n",
              " 0.42424242424242425,\n",
              " 0.3783783783783784,\n",
              " 0.2641509433962264,\n",
              " 0.35000000000000003,\n",
              " 0.1842105263157895,\n",
              " 0.22580645161290322,\n",
              " 0.7777777777777778,\n",
              " 0.2545454545454546,\n",
              " 0.2692307692307693,\n",
              " 0.2153846153846154,\n",
              " 0.13999999999999999,\n",
              " 0.175,\n",
              " 0.1346153846153846,\n",
              " 0.19178082191780824,\n",
              " 0.23728813559322035,\n",
              " 0.39999999999999997,\n",
              " 0.16091954022988506,\n",
              " 0.1320754716981132,\n",
              " 0.11570247933884298,\n",
              " 0.368421052631579,\n",
              " 0.1272727272727273,\n",
              " 0.10937499999999999,\n",
              " 0.11290322580645162,\n",
              " 0.10606060606060606,\n",
              " 0.6666666666666666,\n",
              " 0.43750000000000006,\n",
              " 0.12962962962962962,\n",
              " 0.1414141414141414,\n",
              " 0.4666666666666666,\n",
              " 0.2745098039215686,\n",
              " 0.4117647058823529,\n",
              " 0.823529411764706,\n",
              " 0.3255813953488372,\n",
              " 0.2978723404255319,\n",
              " 0.3111111111111111,\n",
              " 0.2857142857142857,\n",
              " 0.29166666666666663,\n",
              " 0.14893617021276592,\n",
              " 0.11475409836065573,\n",
              " 0.6086956521739131,\n",
              " 0.11965811965811966,\n",
              " 0.34146341463414637,\n",
              " 0.11864406779661019,\n",
              " 0.1794871794871795,\n",
              " 0.5,\n",
              " 0.10526315789473684,\n",
              " 0.19718309859154928,\n",
              " 0.48275862068965514,\n",
              " 0.15730337078651682,\n",
              " 0.2222222222222222,\n",
              " 0.24561403508771928,\n",
              " 0.45161290322580644,\n",
              " 0.19444444444444445,\n",
              " 0.112,\n",
              " 0.1176470588235294,\n",
              " 0.6153846153846153,\n",
              " 0.8,\n",
              " 0.19999999999999998,\n",
              " 0.3636363636363636,\n",
              " 0.7142857142857143,\n",
              " 0.5,\n",
              " 0.8750000000000001]"
            ]
          },
          "metadata": {},
          "execution_count": 38
        }
      ]
    },
    {
      "cell_type": "code",
      "source": [
        "np.array(f).argmax()"
      ],
      "metadata": {
        "colab": {
          "base_uri": "https://localhost:8080/"
        },
        "id": "vaZbEfjfaqFP",
        "outputId": "131cbcef-15df-476d-817d-899320d61aec"
      },
      "execution_count": null,
      "outputs": [
        {
          "output_type": "execute_result",
          "data": {
            "text/plain": [
              "127"
            ]
          },
          "metadata": {},
          "execution_count": 33
        }
      ]
    },
    {
      "cell_type": "code",
      "source": [
        "# And now use this index to get the threshold probability.\n",
        "e = eps[127]\n",
        "e"
      ],
      "metadata": {
        "colab": {
          "base_uri": "https://localhost:8080/"
        },
        "id": "j5Hdhlxgaszg",
        "outputId": "8cc2ca1b-3db5-431d-a3a7-932ff9a8ffa7"
      },
      "execution_count": null,
      "outputs": [
        {
          "output_type": "execute_result",
          "data": {
            "text/plain": [
              "0.00014529639061630243"
            ]
          },
          "metadata": {},
          "execution_count": 34
        }
      ]
    },
    {
      "cell_type": "code",
      "source": [
        "# Find out the Anomalous Examples\n",
        "label = []\n",
        "for i in range(len(df)):\n",
        "    if p[i] <= e:\n",
        "        label.append(1)\n",
        "    else:\n",
        "        label.append(0)\n",
        "label"
      ],
      "metadata": {
        "id": "cRPy0Lruax88"
      },
      "execution_count": null,
      "outputs": []
    },
    {
      "cell_type": "code",
      "source": [
        "df['label'] = np.array(label)\n",
        "df.head()"
      ],
      "metadata": {
        "colab": {
          "base_uri": "https://localhost:8080/",
          "height": 206
        },
        "id": "F-poObXOa6ww",
        "outputId": "a807c47f-9058-461d-e57f-0dc1807cb3b8"
      },
      "execution_count": null,
      "outputs": [
        {
          "output_type": "execute_result",
          "data": {
            "text/plain": [
              "           0          1  label\n",
              "0  13.046815  14.741152      0\n",
              "1  13.408520  13.763270      0\n",
              "2  14.195915  15.853181      0\n",
              "3  14.914701  16.174260      0\n",
              "4  13.576700  14.042849      0"
            ],
            "text/html": [
              "\n",
              "  <div id=\"df-b048985f-9bc8-4cbd-8bc8-4307208a0889\">\n",
              "    <div class=\"colab-df-container\">\n",
              "      <div>\n",
              "<style scoped>\n",
              "    .dataframe tbody tr th:only-of-type {\n",
              "        vertical-align: middle;\n",
              "    }\n",
              "\n",
              "    .dataframe tbody tr th {\n",
              "        vertical-align: top;\n",
              "    }\n",
              "\n",
              "    .dataframe thead th {\n",
              "        text-align: right;\n",
              "    }\n",
              "</style>\n",
              "<table border=\"1\" class=\"dataframe\">\n",
              "  <thead>\n",
              "    <tr style=\"text-align: right;\">\n",
              "      <th></th>\n",
              "      <th>0</th>\n",
              "      <th>1</th>\n",
              "      <th>label</th>\n",
              "    </tr>\n",
              "  </thead>\n",
              "  <tbody>\n",
              "    <tr>\n",
              "      <th>0</th>\n",
              "      <td>13.046815</td>\n",
              "      <td>14.741152</td>\n",
              "      <td>0</td>\n",
              "    </tr>\n",
              "    <tr>\n",
              "      <th>1</th>\n",
              "      <td>13.408520</td>\n",
              "      <td>13.763270</td>\n",
              "      <td>0</td>\n",
              "    </tr>\n",
              "    <tr>\n",
              "      <th>2</th>\n",
              "      <td>14.195915</td>\n",
              "      <td>15.853181</td>\n",
              "      <td>0</td>\n",
              "    </tr>\n",
              "    <tr>\n",
              "      <th>3</th>\n",
              "      <td>14.914701</td>\n",
              "      <td>16.174260</td>\n",
              "      <td>0</td>\n",
              "    </tr>\n",
              "    <tr>\n",
              "      <th>4</th>\n",
              "      <td>13.576700</td>\n",
              "      <td>14.042849</td>\n",
              "      <td>0</td>\n",
              "    </tr>\n",
              "  </tbody>\n",
              "</table>\n",
              "</div>\n",
              "      <button class=\"colab-df-convert\" onclick=\"convertToInteractive('df-b048985f-9bc8-4cbd-8bc8-4307208a0889')\"\n",
              "              title=\"Convert this dataframe to an interactive table.\"\n",
              "              style=\"display:none;\">\n",
              "        \n",
              "  <svg xmlns=\"http://www.w3.org/2000/svg\" height=\"24px\"viewBox=\"0 0 24 24\"\n",
              "       width=\"24px\">\n",
              "    <path d=\"M0 0h24v24H0V0z\" fill=\"none\"/>\n",
              "    <path d=\"M18.56 5.44l.94 2.06.94-2.06 2.06-.94-2.06-.94-.94-2.06-.94 2.06-2.06.94zm-11 1L8.5 8.5l.94-2.06 2.06-.94-2.06-.94L8.5 2.5l-.94 2.06-2.06.94zm10 10l.94 2.06.94-2.06 2.06-.94-2.06-.94-.94-2.06-.94 2.06-2.06.94z\"/><path d=\"M17.41 7.96l-1.37-1.37c-.4-.4-.92-.59-1.43-.59-.52 0-1.04.2-1.43.59L10.3 9.45l-7.72 7.72c-.78.78-.78 2.05 0 2.83L4 21.41c.39.39.9.59 1.41.59.51 0 1.02-.2 1.41-.59l7.78-7.78 2.81-2.81c.8-.78.8-2.07 0-2.86zM5.41 20L4 18.59l7.72-7.72 1.47 1.35L5.41 20z\"/>\n",
              "  </svg>\n",
              "      </button>\n",
              "      \n",
              "  <style>\n",
              "    .colab-df-container {\n",
              "      display:flex;\n",
              "      flex-wrap:wrap;\n",
              "      gap: 12px;\n",
              "    }\n",
              "\n",
              "    .colab-df-convert {\n",
              "      background-color: #E8F0FE;\n",
              "      border: none;\n",
              "      border-radius: 50%;\n",
              "      cursor: pointer;\n",
              "      display: none;\n",
              "      fill: #1967D2;\n",
              "      height: 32px;\n",
              "      padding: 0 0 0 0;\n",
              "      width: 32px;\n",
              "    }\n",
              "\n",
              "    .colab-df-convert:hover {\n",
              "      background-color: #E2EBFA;\n",
              "      box-shadow: 0px 1px 2px rgba(60, 64, 67, 0.3), 0px 1px 3px 1px rgba(60, 64, 67, 0.15);\n",
              "      fill: #174EA6;\n",
              "    }\n",
              "\n",
              "    [theme=dark] .colab-df-convert {\n",
              "      background-color: #3B4455;\n",
              "      fill: #D2E3FC;\n",
              "    }\n",
              "\n",
              "    [theme=dark] .colab-df-convert:hover {\n",
              "      background-color: #434B5C;\n",
              "      box-shadow: 0px 1px 3px 1px rgba(0, 0, 0, 0.15);\n",
              "      filter: drop-shadow(0px 1px 2px rgba(0, 0, 0, 0.3));\n",
              "      fill: #FFFFFF;\n",
              "    }\n",
              "  </style>\n",
              "\n",
              "      <script>\n",
              "        const buttonEl =\n",
              "          document.querySelector('#df-b048985f-9bc8-4cbd-8bc8-4307208a0889 button.colab-df-convert');\n",
              "        buttonEl.style.display =\n",
              "          google.colab.kernel.accessAllowed ? 'block' : 'none';\n",
              "\n",
              "        async function convertToInteractive(key) {\n",
              "          const element = document.querySelector('#df-b048985f-9bc8-4cbd-8bc8-4307208a0889');\n",
              "          const dataTable =\n",
              "            await google.colab.kernel.invokeFunction('convertToInteractive',\n",
              "                                                     [key], {});\n",
              "          if (!dataTable) return;\n",
              "\n",
              "          const docLinkHtml = 'Like what you see? Visit the ' +\n",
              "            '<a target=\"_blank\" href=https://colab.research.google.com/notebooks/data_table.ipynb>data table notebook</a>'\n",
              "            + ' to learn more about interactive tables.';\n",
              "          element.innerHTML = '';\n",
              "          dataTable['output_type'] = 'display_data';\n",
              "          await google.colab.output.renderOutput(dataTable, element);\n",
              "          const docLink = document.createElement('div');\n",
              "          docLink.innerHTML = docLinkHtml;\n",
              "          element.appendChild(docLink);\n",
              "        }\n",
              "      </script>\n",
              "    </div>\n",
              "  </div>\n",
              "  "
            ]
          },
          "metadata": {},
          "execution_count": 36
        }
      ]
    },
    {
      "cell_type": "code",
      "source": [
        "plt.figure()\n",
        "plt.scatter(df[0], df[1], c=df['label'])\n",
        "plt.show()"
      ],
      "metadata": {
        "colab": {
          "base_uri": "https://localhost:8080/",
          "height": 266
        },
        "id": "TRBtPjQFqiLl",
        "outputId": "a5888d24-f660-45df-ad29-a5dd1015b801"
      },
      "execution_count": null,
      "outputs": [
        {
          "output_type": "display_data",
          "data": {
            "text/plain": [
              "<Figure size 432x288 with 1 Axes>"
            ],
            "image/png": "[encoded data removed]"
          },
          "metadata": {
            "needs_background": "light"
          }
        }
      ]
    }
  ],
  "metadata": {
    "colab": {
      "provenance": []
    },
    "kernelspec": {
      "display_name": "Python 3",
      "name": "python3"
    }
  },
  "nbformat": 4,
  "nbformat_minor": 0
}